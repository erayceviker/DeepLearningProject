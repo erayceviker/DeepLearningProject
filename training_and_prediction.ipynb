{
  "nbformat": 4,
  "nbformat_minor": 0,
  "metadata": {
    "colab": {
      "provenance": []
    },
    "kernelspec": {
      "name": "python3",
      "display_name": "Python 3"
    },
    "language_info": {
      "name": "python"
    },
    "accelerator": "GPU",
    "gpuClass": "standard"
  },
  "cells": [
    {
      "cell_type": "code",
      "execution_count": 1,
      "metadata": {
        "colab": {
          "base_uri": "https://localhost:8080/"
        },
        "id": "hd9W-jCgjabY",
        "outputId": "5aa207c2-e77e-4f6b-d93f-626ae851fcbc"
      },
      "outputs": [
        {
          "output_type": "stream",
          "name": "stdout",
          "text": [
            "Wed Jan 18 06:31:48 2023       \n",
            "+-----------------------------------------------------------------------------+\n",
            "| NVIDIA-SMI 460.32.03    Driver Version: 460.32.03    CUDA Version: 11.2     |\n",
            "|-------------------------------+----------------------+----------------------+\n",
            "| GPU  Name        Persistence-M| Bus-Id        Disp.A | Volatile Uncorr. ECC |\n",
            "| Fan  Temp  Perf  Pwr:Usage/Cap|         Memory-Usage | GPU-Util  Compute M. |\n",
            "|                               |                      |               MIG M. |\n",
            "|===============================+======================+======================|\n",
            "|   0  Tesla T4            Off  | 00000000:00:04.0 Off |                    0 |\n",
            "| N/A   66C    P0    30W /  70W |      0MiB / 15109MiB |      0%      Default |\n",
            "|                               |                      |                  N/A |\n",
            "+-------------------------------+----------------------+----------------------+\n",
            "                                                                               \n",
            "+-----------------------------------------------------------------------------+\n",
            "| Processes:                                                                  |\n",
            "|  GPU   GI   CI        PID   Type   Process name                  GPU Memory |\n",
            "|        ID   ID                                                   Usage      |\n",
            "|=============================================================================|\n",
            "|  No running processes found                                                 |\n",
            "+-----------------------------------------------------------------------------+\n"
          ]
        }
      ],
      "source": [
        "#Runtime -> Change runtime type -> Hardware accelerator=GPU\n",
        "!nvidia-smi"
      ]
    },
    {
      "cell_type": "markdown",
      "source": [
        "## Gerekli Kütüphaneleri Ekleme"
      ],
      "metadata": {
        "id": "5VGcMz0CqkJT"
      }
    },
    {
      "cell_type": "code",
      "source": [
        "import tensorflow\n",
        "import keras\n",
        "from keras import datasets, layers, models\n",
        "import numpy as np\n",
        "import matplotlib\n",
        "import matplotlib.pyplot as plt\n",
        "\n",
        "print(\"Tensorflow version: \", tensorflow.__version__)\n",
        "print(\"Keras version: \", keras.__version__)\n",
        "print(\"Numpy version: \", np.__version__)\n",
        "print(\"matplotlib version: \", matplotlib.__version__)"
      ],
      "metadata": {
        "colab": {
          "base_uri": "https://localhost:8080/"
        },
        "id": "mXobw-pskmxZ",
        "outputId": "0d1d67f2-9cec-45d4-c5ff-4072d192db2d"
      },
      "execution_count": 1,
      "outputs": [
        {
          "output_type": "stream",
          "name": "stdout",
          "text": [
            "Tensorflow version:  2.9.2\n",
            "Keras version:  2.9.0\n",
            "Numpy version:  1.21.6\n",
            "matplotlib version:  3.2.2\n"
          ]
        }
      ]
    },
    {
      "cell_type": "markdown",
      "source": [
        "## Veri Kümesini İndirme\n",
        "### Eğitim ve Test kümelerine ayırma"
      ],
      "metadata": {
        "id": "8pB51x_TqoAd"
      }
    },
    {
      "cell_type": "code",
      "source": [
        "#Download datasets\n",
        "(X_train, y_train), (X_test, y_test) = datasets.cifar10.load_data()\n",
        "\n",
        "print(X_train.shape)\n",
        "print(X_test.shape)"
      ],
      "metadata": {
        "colab": {
          "base_uri": "https://localhost:8080/"
        },
        "id": "tAyGO42glVRf",
        "outputId": "81019580-30ac-476f-eabc-1db741e7d21f"
      },
      "execution_count": 2,
      "outputs": [
        {
          "output_type": "stream",
          "name": "stdout",
          "text": [
            "(50000, 32, 32, 3)\n",
            "(10000, 32, 32, 3)\n"
          ]
        }
      ]
    },
    {
      "cell_type": "markdown",
      "source": [
        "Cifar10 veri kümesi içerisinde 50bin adet eğitim örneği, 10bin adet test örneği mevcut."
      ],
      "metadata": {
        "id": "pnIsnNhgqxm0"
      }
    },
    {
      "cell_type": "markdown",
      "source": [
        "## Önişlemler"
      ],
      "metadata": {
        "id": "2drR5aNErIxX"
      }
    },
    {
      "cell_type": "code",
      "source": [
        "# 2 boyutlu diziyi tek boyutlu hale dönüştürüyoruz\n",
        "y_test = y_test.reshape(\n",
        "    -1,\n",
        ")\n",
        "\n",
        "# sınıflarımız\n",
        "image_classes = [\n",
        "    \"airplane\",\n",
        "    \"automobile\",\n",
        "    \"bird\",\n",
        "    \"cat\",\n",
        "    \"deer\",\n",
        "    \"dog\",\n",
        "    \"frog\",\n",
        "    \"horse\",\n",
        "    \"ship\",\n",
        "    \"truck\",\n",
        "]\n",
        "\n",
        "# normalizasyon | doğru sonuç almak için renk pixeline bölüyoruz\n",
        "X_train = X_train / 255\n",
        "X_test = X_test / 255"
      ],
      "metadata": {
        "id": "h6V-FFIMn0gP"
      },
      "execution_count": 3,
      "outputs": []
    },
    {
      "cell_type": "markdown",
      "source": [
        "# MODEL"
      ],
      "metadata": {
        "id": "HwlKuh2QrLdw"
      }
    },
    {
      "cell_type": "code",
      "source": [
        "deep_learning_model = models.Sequential(\n",
        "    [\n",
        "        layers.Conv2D(  # bu görsellerden belirli özellikleri yakalamaya çalışır.\n",
        "            filters=32, kernel_size=(3, 3), activation=\"relu\", input_shape=(32, 32, 3)\n",
        "        ),\n",
        "        layers.MaxPooling2D(\n",
        "            (2, 2)\n",
        "        ),  # en büyük pixel değerini alır en belirgin özellikleri ortaya çıkarır işlem hızını etiler\n",
        "        layers.Conv2D(filters=64, kernel_size=(3, 3), activation=\"relu\"),\n",
        "        layers.MaxPooling2D((2, 2)),\n",
        "        layers.Flatten(),  # CNN ve ANN i otomatik olarak bağlıyoruz\n",
        "        layers.Dense(\n",
        "            64, activation=\"relu\"\n",
        "        ),  # relu negatif değerler için 0 pozitif x değerler için x i alır. böylece ağ daha hızlı eğitilir\n",
        "        layers.Dense(\n",
        "            10, activation=\"softmax\"\n",
        "        ),\n",
        "        # softmax sınıflandırma problemlerinde kullanılır her girdinin bir sınıfa ait olmasını gösteren 0 veya 1 degerini alır\n",
        "    ]\n",
        ")\n",
        "\n",
        "\n",
        "# çoklu sınıfa sahip olduğu için loss olarak \"sparse_categorical_crossentropy\" seçtik.\n",
        "# accuracy skorumuzu ölçerek model başarımını değerlendireceğiz.\n",
        "# optimizer yöntemlerinden birisi olan \"adam\"ı seçtik.\n",
        "deep_learning_model.compile(\n",
        "    optimizer=\"adam\", loss=\"sparse_categorical_crossentropy\", metrics=[\"accuracy\"]\n",
        ")"
      ],
      "metadata": {
        "id": "XSJ6kkQ8rKPF"
      },
      "execution_count": 4,
      "outputs": []
    },
    {
      "cell_type": "markdown",
      "source": [
        "## Model Eğitimi - Training"
      ],
      "metadata": {
        "id": "MeUlZOFGrtA0"
      }
    },
    {
      "cell_type": "code",
      "source": [
        "history = deep_learning_model.fit(X_train, y_train, epochs=20)"
      ],
      "metadata": {
        "colab": {
          "base_uri": "https://localhost:8080/"
        },
        "id": "3rRe7aCorTaG",
        "outputId": "5c7189bc-35ac-4864-95cf-559d8ecae949"
      },
      "execution_count": 5,
      "outputs": [
        {
          "output_type": "stream",
          "name": "stdout",
          "text": [
            "Epoch 1/20\n",
            "1563/1563 [==============================] - 8s 4ms/step - loss: 1.4532 - accuracy: 0.4768\n",
            "Epoch 2/20\n",
            "1563/1563 [==============================] - 6s 4ms/step - loss: 1.1042 - accuracy: 0.6117\n",
            "Epoch 3/20\n",
            "1563/1563 [==============================] - 6s 4ms/step - loss: 0.9753 - accuracy: 0.6592\n",
            "Epoch 4/20\n",
            "1563/1563 [==============================] - 6s 4ms/step - loss: 0.8914 - accuracy: 0.6898\n",
            "Epoch 5/20\n",
            "1563/1563 [==============================] - 6s 4ms/step - loss: 0.8224 - accuracy: 0.7147\n",
            "Epoch 6/20\n",
            "1563/1563 [==============================] - 6s 4ms/step - loss: 0.7655 - accuracy: 0.7321\n",
            "Epoch 7/20\n",
            "1563/1563 [==============================] - 6s 4ms/step - loss: 0.7212 - accuracy: 0.7490\n",
            "Epoch 8/20\n",
            "1563/1563 [==============================] - 6s 4ms/step - loss: 0.6793 - accuracy: 0.7635\n",
            "Epoch 9/20\n",
            "1563/1563 [==============================] - 6s 4ms/step - loss: 0.6321 - accuracy: 0.7797\n",
            "Epoch 10/20\n",
            "1563/1563 [==============================] - 6s 4ms/step - loss: 0.5927 - accuracy: 0.7942\n",
            "Epoch 11/20\n",
            "1563/1563 [==============================] - 6s 4ms/step - loss: 0.5561 - accuracy: 0.8079\n",
            "Epoch 12/20\n",
            "1563/1563 [==============================] - 6s 4ms/step - loss: 0.5215 - accuracy: 0.8205\n",
            "Epoch 13/20\n",
            "1563/1563 [==============================] - 6s 4ms/step - loss: 0.4882 - accuracy: 0.8289\n",
            "Epoch 14/20\n",
            "1563/1563 [==============================] - 6s 4ms/step - loss: 0.4541 - accuracy: 0.8416\n",
            "Epoch 15/20\n",
            "1563/1563 [==============================] - 6s 4ms/step - loss: 0.4283 - accuracy: 0.8487\n",
            "Epoch 16/20\n",
            "1563/1563 [==============================] - 6s 4ms/step - loss: 0.3978 - accuracy: 0.8609\n",
            "Epoch 17/20\n",
            "1563/1563 [==============================] - 6s 4ms/step - loss: 0.3752 - accuracy: 0.8675\n",
            "Epoch 18/20\n",
            "1563/1563 [==============================] - 6s 4ms/step - loss: 0.3505 - accuracy: 0.8758\n",
            "Epoch 19/20\n",
            "1563/1563 [==============================] - 6s 4ms/step - loss: 0.3195 - accuracy: 0.8866\n",
            "Epoch 20/20\n",
            "1563/1563 [==============================] - 6s 4ms/step - loss: 0.3028 - accuracy: 0.8934\n"
          ]
        }
      ]
    },
    {
      "cell_type": "markdown",
      "source": [
        "## Model Başarım Değerlendirme - Evaluate"
      ],
      "metadata": {
        "id": "sit4j-Vpr4rR"
      }
    },
    {
      "cell_type": "code",
      "source": [
        "deep_learning_model.evaluate(X_test, y_test)  # model başarısını ölçüyoruz"
      ],
      "metadata": {
        "colab": {
          "base_uri": "https://localhost:8080/"
        },
        "id": "SNfZvP1Wr1Os",
        "outputId": "424c4a32-2ce0-4010-c127-9b6176c2e4c0"
      },
      "execution_count": 7,
      "outputs": [
        {
          "output_type": "stream",
          "name": "stdout",
          "text": [
            "313/313 [==============================] - 1s 3ms/step - loss: 1.3364 - accuracy: 0.6861\n"
          ]
        },
        {
          "output_type": "execute_result",
          "data": {
            "text/plain": [
              "[1.3364291191101074, 0.6861000061035156]"
            ]
          },
          "metadata": {},
          "execution_count": 7
        }
      ]
    },
    {
      "cell_type": "markdown",
      "source": [
        "## TEST veri kümesiyle tahmin sonuçlarını karşılaştırma"
      ],
      "metadata": {
        "id": "J20h1g9Qvo3Y"
      }
    },
    {
      "cell_type": "code",
      "source": [
        "prediction = deep_learning_model.predict(X_test)\n",
        "\n",
        "predictions_classes = [np.argmax(element) for element in prediction]\n",
        "\n",
        "for i in range(20):\n",
        "    test_result = image_classes[y_test[i]]\n",
        "    prediction_result = image_classes[predictions_classes[i]]\n",
        "    if str(test_result) == str(prediction_result):\n",
        "        print(\"test verisi: \" + str(test_result) + \" Tahmin: \" + str(prediction_result) + \" || DOĞRU\")\n",
        "    else:\n",
        "        print(\"test verisi: \" + str(test_result) + \" Tahmin: \" + str(prediction_result) + \" || YANLIŞ\")\n"
      ],
      "metadata": {
        "colab": {
          "base_uri": "https://localhost:8080/"
        },
        "id": "sEwVYjEEsmt9",
        "outputId": "02acec84-cfe7-4c56-a456-b894a0992735"
      },
      "execution_count": 9,
      "outputs": [
        {
          "output_type": "stream",
          "name": "stdout",
          "text": [
            "313/313 [==============================] - 1s 4ms/step\n",
            "test verisi: cat Tahmin: ship || YANLIŞ\n",
            "test verisi: ship Tahmin: ship || DOĞRU\n",
            "test verisi: ship Tahmin: ship || DOĞRU\n",
            "test verisi: airplane Tahmin: airplane || DOĞRU\n",
            "test verisi: frog Tahmin: frog || DOĞRU\n",
            "test verisi: frog Tahmin: frog || DOĞRU\n",
            "test verisi: automobile Tahmin: automobile || DOĞRU\n",
            "test verisi: frog Tahmin: bird || YANLIŞ\n",
            "test verisi: cat Tahmin: cat || DOĞRU\n",
            "test verisi: automobile Tahmin: truck || YANLIŞ\n",
            "test verisi: airplane Tahmin: airplane || DOĞRU\n",
            "test verisi: truck Tahmin: truck || DOĞRU\n",
            "test verisi: dog Tahmin: cat || YANLIŞ\n",
            "test verisi: horse Tahmin: horse || DOĞRU\n",
            "test verisi: truck Tahmin: truck || DOĞRU\n",
            "test verisi: ship Tahmin: ship || DOĞRU\n",
            "test verisi: dog Tahmin: dog || DOĞRU\n",
            "test verisi: horse Tahmin: dog || YANLIŞ\n",
            "test verisi: ship Tahmin: ship || DOĞRU\n",
            "test verisi: frog Tahmin: frog || DOĞRU\n"
          ]
        }
      ]
    },
    {
      "cell_type": "code",
      "source": [],
      "metadata": {
        "id": "P-xVMALSx-4E"
      },
      "execution_count": null,
      "outputs": []
    }
  ]
}